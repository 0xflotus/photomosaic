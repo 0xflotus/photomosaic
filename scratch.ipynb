{
 "cells": [
  {
   "cell_type": "code",
   "execution_count": 145,
   "metadata": {},
   "outputs": [
    {
     "data": {
      "application/vnd.jupyter.widget-view+json": {
       "model_id": "ca50b49b90f147328a85e7b34c8d63d8",
       "version_major": 2,
       "version_minor": 0
      },
      "text/plain": [
       "HBox(children=(IntProgress(value=0, max=3), HTML(value=u'')))"
      ]
     },
     "metadata": {},
     "output_type": "display_data"
    },
    {
     "name": "stdout",
     "output_type": "stream",
     "text": [
      "Indexing scale=5...\n",
      "Indexing: 142 images, 8.9310 seconds (0.0629 per image)\n",
      "Resizing images to (20, 15)...\n",
      "Indexing scale=6...\n",
      "Indexing: 142 images, 10.1697 seconds (0.0716 per image)\n",
      "Resizing images to (24, 18)...\n",
      "Indexing scale=7...\n",
      "Indexing: 142 images, 8.9405 seconds (0.0630 per image)\n",
      "Resizing images to (28, 21)...\n",
      "\n"
     ]
    },
    {
     "data": {
      "application/vnd.jupyter.widget-view+json": {
       "model_id": "dfbd9f47385a4caf8e63c76f5d9b6cc7",
       "version_major": 2,
       "version_minor": 0
      },
      "text/plain": [
       "HBox(children=(IntProgress(value=0, description=u'Indexing:', max=3), HTML(value=u'')))"
      ]
     },
     "metadata": {},
     "output_type": "display_data"
    },
    {
     "name": "stdout",
     "output_type": "stream",
     "text": [
      "\n",
      "\n",
      "[MoviePy] Building file media/output/2018-04-01 12.00.27.jpg-from-5-to-7.gif with imageio\n"
     ]
    },
    {
     "name": "stderr",
     "output_type": "stream",
     "text": [
      " 75%|███████▌  | 3/4 [00:04<00:01,  1.58s/it]\n"
     ]
    }
   ],
   "source": [
    "run make_gif.py \\\n",
    "    --target \"media/pics/2018-04-01 12.00.27.jpg\" \\\n",
    "    --savepath \"media/output/%s-from-%d-to-%d.gif\" \\\n",
    "    --codebook-dir \"media/pics/\" \\\n",
    "    --min-scale 5 \\\n",
    "    --max-scale 7 \\\n",
    "    --fps 3 \\\n",
    "    --ascending 0 \\\n",
    "    --randomness 0.5"
   ]
  },
  {
   "cell_type": "code",
   "execution_count": 1,
   "metadata": {},
   "outputs": [
    {
     "name": "stdout",
     "output_type": "stream",
     "text": [
      "=== Creating Mosaic Image ===\n",
      "Images=media/pics/, target=media/example/beach.jpg, scale=15, aspect_ratio=1.3333, vectorization=1, randomness=0.00\n",
      "Caching is ON, checking for previously cached index...\n",
      "No cached index found, creating from scratch...\n",
      "Indexing: 963 images, 81.7422 seconds (0.0849 per image)\n",
      "Resizing images to (60, 45)...\n",
      "Caching index to disk...\n",
      "Writing mosaic image to 'media/output/beach-mosiac-scale-15.jpg' ...\n"
     ]
    }
   ],
   "source": [
    "run mosaic.py \\\n",
    "        --target \"media/example/beach.jpg\" \\\n",
    "        --savepath \"media/output/%s-mosiac-scale-%d.jpg\" \\\n",
    "        --codebook-dir media/pics/ \\\n",
    "        --scale 15 \\\n",
    "        --height-aspect 4 \\\n",
    "        --width-aspect 3 \\\n",
    "        --vectorization-factor 1"
   ]
  },
  {
   "cell_type": "code",
   "execution_count": null,
   "metadata": {},
   "outputs": [
    {
     "name": "stdout",
     "output_type": "stream",
     "text": [
      "Images=media/pics/, target=media/example/sickle.jpg, min_scale=8, max_scale=10, aspect_ratio=1.3333, vectorization=1, randomness=0.00\n"
     ]
    },
    {
     "data": {
      "application/vnd.jupyter.widget-view+json": {
       "model_id": "3fd7b27ada044944be67242d54c7d6e7",
       "version_major": 2,
       "version_minor": 0
      },
      "text/plain": [
       "HBox(children=(IntProgress(value=0, max=3), HTML(value=u'')))"
      ]
     },
     "metadata": {},
     "output_type": "display_data"
    },
    {
     "name": "stdout",
     "output_type": "stream",
     "text": [
      "Indexing scale=8...\n",
      "Caching is ON, checking for previously cached index...\n",
      "Found cached index, reading from disk...\n",
      "Indexing scale=9...\n",
      "Caching is ON, checking for previously cached index...\n",
      "No cached index found, creating from scratch...\n"
     ]
    }
   ],
   "source": [
    "run interactive.py \\\n",
    "        --codebook-dir media/pics/ \\\n",
    "        --target \"media/example/sickle.jpg\" \\\n",
    "        --savepath \"media/output/%s-%d.jpg\" \\\n",
    "        --min-scale 8 \\\n",
    "        --max-scale 10"
   ]
  }
 ],
 "metadata": {
  "kernelspec": {
   "display_name": "Python 2",
   "language": "python",
   "name": "python2"
  },
  "language_info": {
   "codemirror_mode": {
    "name": "ipython",
    "version": 2
   },
   "file_extension": ".py",
   "mimetype": "text/x-python",
   "name": "python",
   "nbconvert_exporter": "python",
   "pygments_lexer": "ipython2",
   "version": "2.7.15"
  }
 },
 "nbformat": 4,
 "nbformat_minor": 2
}
